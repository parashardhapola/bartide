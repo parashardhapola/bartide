{
 "cells": [
  {
   "cell_type": "code",
   "execution_count": 1,
   "id": "da61e986-0d17-4f95-a473-8ac98f2ee6f5",
   "metadata": {},
   "outputs": [
    {
     "data": {
      "text/plain": [
       "'0.2.0'"
      ]
     },
     "execution_count": 1,
     "metadata": {},
     "output_type": "execute_result"
    }
   ],
   "source": [
    "import bartide\n",
    "bartide.__version__"
   ]
  },
  {
   "cell_type": "code",
   "execution_count": 2,
   "id": "bdca56b7-817f-4ae7-9b94-f7eede356e1f",
   "metadata": {},
   "outputs": [
    {
     "name": "stdout",
     "output_type": "stream",
     "text": [
      "INFO: 6 samples found\n",
      "test_data\\LSK-B_T1_R1.fastq.gz test_data\\LSK-B_T1_R2.fastq.gz\n"
     ]
    },
    {
     "name": "stderr",
     "output_type": "stream",
     "text": [
      "INFO: 25000 sequences processed. 1234 unique(uncorrected) barcodes found.\n",
      "WARNING: Unable to find barcodes in 12.84% reads. 6.15% reads had too many mismatches.\n",
      "INFO: Maximum observed read length is 75\n"
     ]
    },
    {
     "name": "stdout",
     "output_type": "stream",
     "text": [
      "-----\n",
      "\n",
      "test_data\\LSK-B_T2_R1.fastq.gz test_data\\LSK-B_T2_R2.fastq.gz\n"
     ]
    },
    {
     "name": "stderr",
     "output_type": "stream",
     "text": [
      "INFO: 25000 sequences processed. 863 unique(uncorrected) barcodes found.\n",
      "WARNING: Unable to find barcodes in 30.24% reads. 6.04% reads had too many mismatches.\n",
      "INFO: Maximum observed read length is 75\n"
     ]
    },
    {
     "name": "stdout",
     "output_type": "stream",
     "text": [
      "-----\n",
      "\n",
      "test_data\\LSK-ER_T1_R1.fastq.gz test_data\\LSK-ER_T1_R2.fastq.gz\n"
     ]
    },
    {
     "name": "stderr",
     "output_type": "stream",
     "text": [
      "INFO: 25000 sequences processed. 875 unique(uncorrected) barcodes found.\n",
      "WARNING: Unable to find barcodes in 21.39% reads. 5.80% reads had too many mismatches.\n",
      "INFO: Maximum observed read length is 75\n"
     ]
    },
    {
     "name": "stdout",
     "output_type": "stream",
     "text": [
      "-----\n",
      "\n",
      "test_data\\LSK-ER_T2_R1.fastq.gz test_data\\LSK-ER_T2_R2.fastq.gz\n"
     ]
    },
    {
     "name": "stderr",
     "output_type": "stream",
     "text": [
      "INFO: 25000 sequences processed. 1068 unique(uncorrected) barcodes found.\n",
      "WARNING: Unable to find barcodes in 21.83% reads. 5.32% reads had too many mismatches.\n",
      "INFO: Maximum observed read length is 75\n"
     ]
    },
    {
     "name": "stdout",
     "output_type": "stream",
     "text": [
      "-----\n",
      "\n",
      "test_data\\LSK-MY_T1_R1.fastq.gz test_data\\LSK-MY_T1_R2.fastq.gz\n"
     ]
    },
    {
     "name": "stderr",
     "output_type": "stream",
     "text": [
      "INFO: 25000 sequences processed. 1613 unique(uncorrected) barcodes found.\n",
      "WARNING: Unable to find barcodes in 21.18% reads. 7.30% reads had too many mismatches.\n",
      "INFO: Maximum observed read length is 75\n"
     ]
    },
    {
     "name": "stdout",
     "output_type": "stream",
     "text": [
      "-----\n",
      "\n",
      "test_data\\LSK-MY_T2_R1.fastq.gz test_data\\LSK-MY_T2_R2.fastq.gz\n"
     ]
    },
    {
     "name": "stderr",
     "output_type": "stream",
     "text": [
      "INFO: 25000 sequences processed. 1197 unique(uncorrected) barcodes found.\n",
      "WARNING: Unable to find barcodes in 23.79% reads. 5.40% reads had too many mismatches.\n",
      "INFO: Maximum observed read length is 75\n"
     ]
    },
    {
     "name": "stdout",
     "output_type": "stream",
     "text": [
      "-----\n",
      "\n"
     ]
    }
   ],
   "source": [
    "for r1,r2 in bartide.glob_files('test_data', read1_pattern = \"R1\", read2_pattern = \"R2\", file_extension = \"fastq.gz\"):\n",
    "    print (r1, r2)\n",
    "    extractor = bartide.BarcodeExtractor(r1, r2, disable_progress_bar=True)\n",
    "    extractor.identify_flanks()\n",
    "    extractor.count_barcodes()\n",
    "    corrector = bartide.SeqCorrect(disable_progress_bar=True)\n",
    "    corrector.run(extractor.rawCounts)\n",
    "    save_name = r1.replace('_R1.fastq.gz', '') + '.csv'\n",
    "    corrector.save_to_csv(save_name)\n",
    "    print ('-----\\n')"
   ]
  },
  {
   "cell_type": "code",
   "execution_count": 5,
   "id": "f76f285a-2bb0-467e-9e1f-f9c1739173e7",
   "metadata": {},
   "outputs": [
    {
     "name": "stderr",
     "output_type": "stream",
     "text": [
      "INFO: 6 barcode files found\n"
     ]
    },
    {
     "data": {
      "text/html": [
       "<div>\n",
       "<style scoped>\n",
       "    .dataframe tbody tr th:only-of-type {\n",
       "        vertical-align: middle;\n",
       "    }\n",
       "\n",
       "    .dataframe tbody tr th {\n",
       "        vertical-align: top;\n",
       "    }\n",
       "\n",
       "    .dataframe thead th {\n",
       "        text-align: right;\n",
       "    }\n",
       "</style>\n",
       "<table border=\"1\" class=\"dataframe\">\n",
       "  <thead>\n",
       "    <tr style=\"text-align: right;\">\n",
       "      <th></th>\n",
       "      <th>LSK-B_T1</th>\n",
       "      <th>LSK-B_T2</th>\n",
       "      <th>LSK-ER_T1</th>\n",
       "      <th>LSK-ER_T2</th>\n",
       "      <th>LSK-MY_T1</th>\n",
       "      <th>LSK-MY_T2</th>\n",
       "    </tr>\n",
       "    <tr>\n",
       "      <th>barcodes</th>\n",
       "      <th></th>\n",
       "      <th></th>\n",
       "      <th></th>\n",
       "      <th></th>\n",
       "      <th></th>\n",
       "      <th></th>\n",
       "    </tr>\n",
       "  </thead>\n",
       "  <tbody>\n",
       "    <tr>\n",
       "      <th>AAAGCAGGATTCTAAACCAAATTAATG</th>\n",
       "      <td>0</td>\n",
       "      <td>1145</td>\n",
       "      <td>0</td>\n",
       "      <td>0</td>\n",
       "      <td>0</td>\n",
       "      <td>0</td>\n",
       "    </tr>\n",
       "    <tr>\n",
       "      <th>AACTCTATCTTTTACGCTTAATCAGTT</th>\n",
       "      <td>0</td>\n",
       "      <td>0</td>\n",
       "      <td>232</td>\n",
       "      <td>286</td>\n",
       "      <td>48</td>\n",
       "      <td>59</td>\n",
       "    </tr>\n",
       "    <tr>\n",
       "      <th>AAGATAAAGTGTGGAAAGGGATGACTC</th>\n",
       "      <td>0</td>\n",
       "      <td>0</td>\n",
       "      <td>277</td>\n",
       "      <td>285</td>\n",
       "      <td>1142</td>\n",
       "      <td>1204</td>\n",
       "    </tr>\n",
       "    <tr>\n",
       "      <th>AAGGATGAATGACAAGGAGCTAGCCAT</th>\n",
       "      <td>543</td>\n",
       "      <td>0</td>\n",
       "      <td>39</td>\n",
       "      <td>0</td>\n",
       "      <td>0</td>\n",
       "      <td>0</td>\n",
       "    </tr>\n",
       "    <tr>\n",
       "      <th>AAGTTACATGCCGCAAAGGGTCTATTG</th>\n",
       "      <td>478</td>\n",
       "      <td>0</td>\n",
       "      <td>0</td>\n",
       "      <td>0</td>\n",
       "      <td>0</td>\n",
       "      <td>0</td>\n",
       "    </tr>\n",
       "    <tr>\n",
       "      <th>...</th>\n",
       "      <td>...</td>\n",
       "      <td>...</td>\n",
       "      <td>...</td>\n",
       "      <td>...</td>\n",
       "      <td>...</td>\n",
       "      <td>...</td>\n",
       "    </tr>\n",
       "    <tr>\n",
       "      <th>TTTGAATCAGGAGCCGACGTTGTGCTT</th>\n",
       "      <td>401</td>\n",
       "      <td>0</td>\n",
       "      <td>127</td>\n",
       "      <td>0</td>\n",
       "      <td>0</td>\n",
       "      <td>0</td>\n",
       "    </tr>\n",
       "    <tr>\n",
       "      <th>TTTTCACAAGCAGGTTCGGCGCCAGGT</th>\n",
       "      <td>0</td>\n",
       "      <td>0</td>\n",
       "      <td>0</td>\n",
       "      <td>0</td>\n",
       "      <td>0</td>\n",
       "      <td>49</td>\n",
       "    </tr>\n",
       "    <tr>\n",
       "      <th>TTTTCATACCCTGTACCGACGTTCTCG</th>\n",
       "      <td>0</td>\n",
       "      <td>0</td>\n",
       "      <td>0</td>\n",
       "      <td>0</td>\n",
       "      <td>41</td>\n",
       "      <td>39</td>\n",
       "    </tr>\n",
       "    <tr>\n",
       "      <th>TTTTGCGCAATTTAAATGTATTCCGTA</th>\n",
       "      <td>0</td>\n",
       "      <td>0</td>\n",
       "      <td>49</td>\n",
       "      <td>0</td>\n",
       "      <td>0</td>\n",
       "      <td>0</td>\n",
       "    </tr>\n",
       "    <tr>\n",
       "      <th>TTTTTCCCTGGATGTTCAGTTACTCTG</th>\n",
       "      <td>0</td>\n",
       "      <td>0</td>\n",
       "      <td>0</td>\n",
       "      <td>27</td>\n",
       "      <td>0</td>\n",
       "      <td>0</td>\n",
       "    </tr>\n",
       "  </tbody>\n",
       "</table>\n",
       "<p>201 rows × 6 columns</p>\n",
       "</div>"
      ],
      "text/plain": [
       "                             LSK-B_T1  LSK-B_T2  LSK-ER_T1  LSK-ER_T2  \\\n",
       "barcodes                                                                \n",
       "AAAGCAGGATTCTAAACCAAATTAATG         0      1145          0          0   \n",
       "AACTCTATCTTTTACGCTTAATCAGTT         0         0        232        286   \n",
       "AAGATAAAGTGTGGAAAGGGATGACTC         0         0        277        285   \n",
       "AAGGATGAATGACAAGGAGCTAGCCAT       543         0         39          0   \n",
       "AAGTTACATGCCGCAAAGGGTCTATTG       478         0          0          0   \n",
       "...                               ...       ...        ...        ...   \n",
       "TTTGAATCAGGAGCCGACGTTGTGCTT       401         0        127          0   \n",
       "TTTTCACAAGCAGGTTCGGCGCCAGGT         0         0          0          0   \n",
       "TTTTCATACCCTGTACCGACGTTCTCG         0         0          0          0   \n",
       "TTTTGCGCAATTTAAATGTATTCCGTA         0         0         49          0   \n",
       "TTTTTCCCTGGATGTTCAGTTACTCTG         0         0          0         27   \n",
       "\n",
       "                             LSK-MY_T1  LSK-MY_T2  \n",
       "barcodes                                           \n",
       "AAAGCAGGATTCTAAACCAAATTAATG          0          0  \n",
       "AACTCTATCTTTTACGCTTAATCAGTT         48         59  \n",
       "AAGATAAAGTGTGGAAAGGGATGACTC       1142       1204  \n",
       "AAGGATGAATGACAAGGAGCTAGCCAT          0          0  \n",
       "AAGTTACATGCCGCAAAGGGTCTATTG          0          0  \n",
       "...                                ...        ...  \n",
       "TTTGAATCAGGAGCCGACGTTGTGCTT          0          0  \n",
       "TTTTCACAAGCAGGTTCGGCGCCAGGT          0         49  \n",
       "TTTTCATACCCTGTACCGACGTTCTCG         41         39  \n",
       "TTTTGCGCAATTTAAATGTATTCCGTA          0          0  \n",
       "TTTTTCCCTGGATGTTCAGTTACTCTG          0          0  \n",
       "\n",
       "[201 rows x 6 columns]"
      ]
     },
     "execution_count": 5,
     "metadata": {},
     "output_type": "execute_result"
    }
   ],
   "source": [
    "analyzer = bartide.BarcodeAnalyzer('test_data')\n",
    "analyzer.barcodes"
   ]
  },
  {
   "cell_type": "code",
   "execution_count": 6,
   "id": "65030b4d-ab43-43d5-b417-c4acfe62a100",
   "metadata": {},
   "outputs": [],
   "source": [
    "analyzer.merge_groups(['B', 'B', 'ER', 'ER', 'MY', 'MY'])"
   ]
  },
  {
   "cell_type": "code",
   "execution_count": 7,
   "id": "0d474588-c196-402b-9d05-cbd6890d4ab3",
   "metadata": {},
   "outputs": [
    {
     "data": {
      "text/html": [
       "<div>\n",
       "<style scoped>\n",
       "    .dataframe tbody tr th:only-of-type {\n",
       "        vertical-align: middle;\n",
       "    }\n",
       "\n",
       "    .dataframe tbody tr th {\n",
       "        vertical-align: top;\n",
       "    }\n",
       "\n",
       "    .dataframe thead th {\n",
       "        text-align: right;\n",
       "    }\n",
       "</style>\n",
       "<table border=\"1\" class=\"dataframe\">\n",
       "  <thead>\n",
       "    <tr style=\"text-align: right;\">\n",
       "      <th></th>\n",
       "      <th>B</th>\n",
       "      <th>ER</th>\n",
       "      <th>MY</th>\n",
       "    </tr>\n",
       "  </thead>\n",
       "  <tbody>\n",
       "    <tr>\n",
       "      <th>B</th>\n",
       "      <td>8</td>\n",
       "      <td>0</td>\n",
       "      <td>1</td>\n",
       "    </tr>\n",
       "    <tr>\n",
       "      <th>ER</th>\n",
       "      <td>0</td>\n",
       "      <td>54</td>\n",
       "      <td>29</td>\n",
       "    </tr>\n",
       "    <tr>\n",
       "      <th>MY</th>\n",
       "      <td>1</td>\n",
       "      <td>29</td>\n",
       "      <td>82</td>\n",
       "    </tr>\n",
       "  </tbody>\n",
       "</table>\n",
       "</div>"
      ],
      "text/plain": [
       "    B  ER  MY\n",
       "B   8   0   1\n",
       "ER  0  54  29\n",
       "MY  1  29  82"
      ]
     },
     "execution_count": 7,
     "metadata": {},
     "output_type": "execute_result"
    }
   ],
   "source": [
    "analyzer.calc_overlap()"
   ]
  },
  {
   "cell_type": "code",
   "execution_count": 8,
   "id": "4436db44-155b-47a6-aa8c-cd7fc38e6705",
   "metadata": {},
   "outputs": [
    {
     "data": {
      "image/png": "[encoded data removed]",
      "text/plain": [
       "<Figure size 288x288 with 4 Axes>"
      ]
     },
     "metadata": {
      "needs_background": "light"
     },
     "output_type": "display_data"
    }
   ],
   "source": [
    "analyzer.plot_upset(save_name='./images/upset_plot.png')"
   ]
  },
  {
   "cell_type": "code",
   "execution_count": 9,
   "id": "c99eafe6-1717-4632-bc4d-8e62a9574820",
   "metadata": {},
   "outputs": [
    {
     "data": {
      "text/html": [
       "<div>\n",
       "<style scoped>\n",
       "    .dataframe tbody tr th:only-of-type {\n",
       "        vertical-align: middle;\n",
       "    }\n",
       "\n",
       "    .dataframe tbody tr th {\n",
       "        vertical-align: top;\n",
       "    }\n",
       "\n",
       "    .dataframe thead th {\n",
       "        text-align: right;\n",
       "    }\n",
       "</style>\n",
       "<table border=\"1\" class=\"dataframe\">\n",
       "  <thead>\n",
       "    <tr style=\"text-align: right;\">\n",
       "      <th></th>\n",
       "      <th>B</th>\n",
       "      <th>ER</th>\n",
       "      <th>MY</th>\n",
       "    </tr>\n",
       "  </thead>\n",
       "  <tbody>\n",
       "    <tr>\n",
       "      <th>B</th>\n",
       "      <td>88.888889</td>\n",
       "      <td>0.000000</td>\n",
       "      <td>0.892857</td>\n",
       "    </tr>\n",
       "    <tr>\n",
       "      <th>ER</th>\n",
       "      <td>0.000000</td>\n",
       "      <td>65.060241</td>\n",
       "      <td>25.892857</td>\n",
       "    </tr>\n",
       "    <tr>\n",
       "      <th>MY</th>\n",
       "      <td>11.111111</td>\n",
       "      <td>34.939759</td>\n",
       "      <td>73.214286</td>\n",
       "    </tr>\n",
       "  </tbody>\n",
       "</table>\n",
       "</div>"
      ],
      "text/plain": [
       "            B         ER         MY\n",
       "B   88.888889   0.000000   0.892857\n",
       "ER   0.000000  65.060241  25.892857\n",
       "MY  11.111111  34.939759  73.214286"
      ]
     },
     "execution_count": 9,
     "metadata": {},
     "output_type": "execute_result"
    }
   ],
   "source": [
    "analyzer.calc_percentage_overlap()"
   ]
  },
  {
   "cell_type": "code",
   "execution_count": 10,
   "id": "70a13cea-4869-4a66-958e-1d07cb07c8d9",
   "metadata": {},
   "outputs": [
    {
     "data": {
      "image/png": "[encoded data removed]",
      "text/plain": [
       "<Figure size 288x216 with 1 Axes>"
      ]
     },
     "metadata": {
      "needs_background": "light"
     },
     "output_type": "display_data"
    }
   ],
   "source": [
    "analyzer.plot_stacked(fig_size=(4,3), save_name='./images/stacked_plot.png')"
   ]
  },
  {
   "cell_type": "code",
   "execution_count": 11,
   "id": "b0f33a1e-9114-4735-a820-dddeb41f140b",
   "metadata": {},
   "outputs": [
    {
     "data": {
      "text/html": [
       "<div>\n",
       "<style scoped>\n",
       "    .dataframe tbody tr th:only-of-type {\n",
       "        vertical-align: middle;\n",
       "    }\n",
       "\n",
       "    .dataframe tbody tr th {\n",
       "        vertical-align: top;\n",
       "    }\n",
       "\n",
       "    .dataframe thead th {\n",
       "        text-align: right;\n",
       "    }\n",
       "</style>\n",
       "<table border=\"1\" class=\"dataframe\">\n",
       "  <thead>\n",
       "    <tr style=\"text-align: right;\">\n",
       "      <th></th>\n",
       "      <th>B</th>\n",
       "      <th>ER</th>\n",
       "      <th>MY</th>\n",
       "    </tr>\n",
       "  </thead>\n",
       "  <tbody>\n",
       "    <tr>\n",
       "      <th>B</th>\n",
       "      <td>1.000000</td>\n",
       "      <td>0.000000</td>\n",
       "      <td>0.011236</td>\n",
       "    </tr>\n",
       "    <tr>\n",
       "      <th>ER</th>\n",
       "      <td>0.000000</td>\n",
       "      <td>1.000000</td>\n",
       "      <td>0.271028</td>\n",
       "    </tr>\n",
       "    <tr>\n",
       "      <th>MY</th>\n",
       "      <td>0.011236</td>\n",
       "      <td>0.271028</td>\n",
       "      <td>1.000000</td>\n",
       "    </tr>\n",
       "  </tbody>\n",
       "</table>\n",
       "</div>"
      ],
      "text/plain": [
       "           B        ER        MY\n",
       "B   1.000000  0.000000  0.011236\n",
       "ER  0.000000  1.000000  0.271028\n",
       "MY  0.011236  0.271028  1.000000"
      ]
     },
     "execution_count": 11,
     "metadata": {},
     "output_type": "execute_result"
    }
   ],
   "source": [
    "analyzer.calc_overlap(corrected=True)"
   ]
  },
  {
   "cell_type": "code",
   "execution_count": 12,
   "id": "2cc61087-4568-4606-9bc2-18610cd02ec0",
   "metadata": {},
   "outputs": [
    {
     "data": {
      "image/png": "[encoded data removed]",
      "text/plain": [
       "<Figure size 288x288 with 4 Axes>"
      ]
     },
     "metadata": {
      "needs_background": "light"
     },
     "output_type": "display_data"
    }
   ],
   "source": [
    "analyzer.plot_overlap_heatmap(fig_size=(4,4), save_name='./images/overlap_heatmap.png')"
   ]
  },
  {
   "cell_type": "code",
   "execution_count": 13,
   "id": "bcc98bee-4a3f-4696-bf76-dfc2fa17db2c",
   "metadata": {},
   "outputs": [
    {
     "data": {
      "text/html": [
       "<div>\n",
       "<style scoped>\n",
       "    .dataframe tbody tr th:only-of-type {\n",
       "        vertical-align: middle;\n",
       "    }\n",
       "\n",
       "    .dataframe tbody tr th {\n",
       "        vertical-align: top;\n",
       "    }\n",
       "\n",
       "    .dataframe thead th {\n",
       "        text-align: right;\n",
       "    }\n",
       "</style>\n",
       "<table border=\"1\" class=\"dataframe\">\n",
       "  <thead>\n",
       "    <tr style=\"text-align: right;\">\n",
       "      <th></th>\n",
       "      <th>B</th>\n",
       "      <th>ER</th>\n",
       "      <th>MY</th>\n",
       "    </tr>\n",
       "  </thead>\n",
       "  <tbody>\n",
       "    <tr>\n",
       "      <th>B</th>\n",
       "      <td>1.000000</td>\n",
       "      <td>0.000000</td>\n",
       "      <td>0.130218</td>\n",
       "    </tr>\n",
       "    <tr>\n",
       "      <th>ER</th>\n",
       "      <td>0.000000</td>\n",
       "      <td>1.000000</td>\n",
       "      <td>0.594077</td>\n",
       "    </tr>\n",
       "    <tr>\n",
       "      <th>MY</th>\n",
       "      <td>0.130218</td>\n",
       "      <td>0.594077</td>\n",
       "      <td>1.000000</td>\n",
       "    </tr>\n",
       "  </tbody>\n",
       "</table>\n",
       "</div>"
      ],
      "text/plain": [
       "           B        ER        MY\n",
       "B   1.000000  0.000000  0.130218\n",
       "ER  0.000000  1.000000  0.594077\n",
       "MY  0.130218  0.594077  1.000000"
      ]
     },
     "execution_count": 13,
     "metadata": {},
     "output_type": "execute_result"
    }
   ],
   "source": [
    "analyzer.calc_weighted_overlap()"
   ]
  },
  {
   "cell_type": "code",
   "execution_count": 14,
   "id": "3a7ccf95-e360-4a2d-9da1-8bffd051e3ec",
   "metadata": {},
   "outputs": [
    {
     "data": {
      "image/png": "[encoded data removed]",
      "text/plain": [
       "<Figure size 288x288 with 4 Axes>"
      ]
     },
     "metadata": {
      "needs_background": "light"
     },
     "output_type": "display_data"
    }
   ],
   "source": [
    "analyzer.plot_weighted_heatmap(fig_size=(4,4), save_name='./images/weighted_heatmap.png')"
   ]
  },
  {
   "cell_type": "code",
   "execution_count": null,
   "id": "fc0144e5-0ed6-49c2-a8f8-68f590ee8171",
   "metadata": {},
   "outputs": [],
   "source": []
  }
 ],
 "metadata": {
  "kernelspec": {
   "display_name": "Python 3 (ipykernel)",
   "language": "python",
   "name": "python3"
  },
  "language_info": {
   "codemirror_mode": {
    "name": "ipython",
    "version": 3
   },
   "file_extension": ".py",
   "mimetype": "text/x-python",
   "name": "python",
   "nbconvert_exporter": "python",
   "pygments_lexer": "ipython3",
   "version": "3.9.12"
  }
 },
 "nbformat": 4,
 "nbformat_minor": 5
}
