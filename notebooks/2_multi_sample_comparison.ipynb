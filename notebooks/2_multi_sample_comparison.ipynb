{
 "cells": [
  {
   "cell_type": "code",
   "execution_count": 1,
   "id": "da61e986-0d17-4f95-a473-8ac98f2ee6f5",
   "metadata": {},
   "outputs": [
    {
     "data": {
      "text/plain": [
       "'0.3.0'"
      ]
     },
     "execution_count": 1,
     "metadata": {},
     "output_type": "execute_result"
    }
   ],
   "source": [
    "import bartide\n",
    "bartide.__version__"
   ]
  },
  {
   "cell_type": "code",
   "execution_count": 2,
   "id": "bdca56b7-817f-4ae7-9b94-f7eede356e1f",
   "metadata": {},
   "outputs": [
    {
     "name": "stdout",
     "output_type": "stream",
     "text": [
      "INFO: 10 samples found\n",
      "test_data\\LSK-B_T1_R1.fastq.gz test_data\\LSK-B_T1_R2.fastq.gz\n"
     ]
    },
    {
     "name": "stderr",
     "output_type": "stream",
     "text": [
      "INFO: 25000 sequences processed. 1234 unique(uncorrected) barcodes found.\n",
      "WARNING: Unable to find barcodes in 12.84% reads. 6.15% reads had too many mismatches.\n",
      "INFO: Maximum observed read length is 75\n"
     ]
    },
    {
     "name": "stdout",
     "output_type": "stream",
     "text": [
      "-----\n",
      "\n",
      "test_data\\LSK-B_T2_R1.fastq.gz test_data\\LSK-B_T2_R2.fastq.gz\n"
     ]
    },
    {
     "name": "stderr",
     "output_type": "stream",
     "text": [
      "INFO: 25000 sequences processed. 863 unique(uncorrected) barcodes found.\n",
      "WARNING: Unable to find barcodes in 30.24% reads. 6.04% reads had too many mismatches.\n",
      "INFO: Maximum observed read length is 75\n"
     ]
    },
    {
     "name": "stdout",
     "output_type": "stream",
     "text": [
      "-----\n",
      "\n",
      "test_data\\LSK-ER_T1_R1.fastq.gz test_data\\LSK-ER_T1_R2.fastq.gz\n"
     ]
    },
    {
     "name": "stderr",
     "output_type": "stream",
     "text": [
      "INFO: 25000 sequences processed. 875 unique(uncorrected) barcodes found.\n",
      "WARNING: Unable to find barcodes in 21.39% reads. 5.80% reads had too many mismatches.\n",
      "INFO: Maximum observed read length is 75\n"
     ]
    },
    {
     "name": "stdout",
     "output_type": "stream",
     "text": [
      "-----\n",
      "\n",
      "test_data\\LSK-ER_T2_R1.fastq.gz test_data\\LSK-ER_T2_R2.fastq.gz\n"
     ]
    },
    {
     "name": "stderr",
     "output_type": "stream",
     "text": [
      "INFO: 25000 sequences processed. 1068 unique(uncorrected) barcodes found.\n",
      "WARNING: Unable to find barcodes in 21.83% reads. 5.32% reads had too many mismatches.\n",
      "INFO: Maximum observed read length is 75\n"
     ]
    },
    {
     "name": "stdout",
     "output_type": "stream",
     "text": [
      "-----\n",
      "\n",
      "test_data\\LSK-MK_T1_R1.fastq.gz test_data\\LSK-MK_T1_R2.fastq.gz\n"
     ]
    },
    {
     "name": "stderr",
     "output_type": "stream",
     "text": [
      "INFO: 25000 sequences processed. 1290 unique(uncorrected) barcodes found.\n",
      "WARNING: Unable to find barcodes in 16.23% reads. 6.17% reads had too many mismatches.\n",
      "INFO: Maximum observed read length is 75\n"
     ]
    },
    {
     "name": "stdout",
     "output_type": "stream",
     "text": [
      "-----\n",
      "\n",
      "test_data\\LSK-MK_T2_R1.fastq.gz test_data\\LSK-MK_T2_R2.fastq.gz\n"
     ]
    },
    {
     "name": "stderr",
     "output_type": "stream",
     "text": [
      "INFO: 25000 sequences processed. 1415 unique(uncorrected) barcodes found.\n",
      "WARNING: Unable to find barcodes in 14.55% reads. 7.93% reads had too many mismatches.\n",
      "INFO: Maximum observed read length is 75\n"
     ]
    },
    {
     "name": "stdout",
     "output_type": "stream",
     "text": [
      "-----\n",
      "\n",
      "test_data\\LSK-MQ_T1_R1.fastq.gz test_data\\LSK-MQ_T1_R2.fastq.gz\n"
     ]
    },
    {
     "name": "stderr",
     "output_type": "stream",
     "text": [
      "INFO: 25000 sequences processed. 1022 unique(uncorrected) barcodes found.\n",
      "WARNING: Unable to find barcodes in 18.99% reads. 4.84% reads had too many mismatches.\n",
      "INFO: Maximum observed read length is 75\n"
     ]
    },
    {
     "name": "stdout",
     "output_type": "stream",
     "text": [
      "-----\n",
      "\n",
      "test_data\\LSK-MQ_T2_R1.fastq.gz test_data\\LSK-MQ_T2_R2.fastq.gz\n"
     ]
    },
    {
     "name": "stderr",
     "output_type": "stream",
     "text": [
      "INFO: 25000 sequences processed. 1524 unique(uncorrected) barcodes found.\n",
      "WARNING: Unable to find barcodes in 13.80% reads. 8.91% reads had too many mismatches.\n",
      "INFO: Maximum observed read length is 75\n"
     ]
    },
    {
     "name": "stdout",
     "output_type": "stream",
     "text": [
      "-----\n",
      "\n",
      "test_data\\LSK-MY_T1_R1.fastq.gz test_data\\LSK-MY_T1_R2.fastq.gz\n"
     ]
    },
    {
     "name": "stderr",
     "output_type": "stream",
     "text": [
      "INFO: 25000 sequences processed. 1613 unique(uncorrected) barcodes found.\n",
      "WARNING: Unable to find barcodes in 21.18% reads. 7.30% reads had too many mismatches.\n",
      "INFO: Maximum observed read length is 75\n"
     ]
    },
    {
     "name": "stdout",
     "output_type": "stream",
     "text": [
      "-----\n",
      "\n",
      "test_data\\LSK-MY_T2_R1.fastq.gz test_data\\LSK-MY_T2_R2.fastq.gz\n"
     ]
    },
    {
     "name": "stderr",
     "output_type": "stream",
     "text": [
      "INFO: 25000 sequences processed. 1197 unique(uncorrected) barcodes found.\n",
      "WARNING: Unable to find barcodes in 23.79% reads. 5.40% reads had too many mismatches.\n",
      "INFO: Maximum observed read length is 75\n"
     ]
    },
    {
     "name": "stdout",
     "output_type": "stream",
     "text": [
      "-----\n",
      "\n"
     ]
    }
   ],
   "source": [
    "for r1,r2 in bartide.glob_files('test_data', read1_pattern = \"R1\", read2_pattern = \"R2\", file_extension = \"fastq.gz\"):\n",
    "    print (r1, r2)\n",
    "    extractor = bartide.BarcodeExtractor(r1, r2, disable_progress_bar=True)\n",
    "    extractor.identify_flanks()\n",
    "    extractor.count_barcodes()\n",
    "    corrector = bartide.SeqCorrect(disable_progress_bar=True)\n",
    "    corrector.run(extractor.rawCounts)\n",
    "    save_name = r1.replace('_R1.fastq.gz', '') + '.csv'\n",
    "    corrector.save_to_csv(save_name)\n",
    "    print ('-----\\n')"
   ]
  },
  {
   "cell_type": "code",
   "execution_count": 3,
   "id": "f76f285a-2bb0-467e-9e1f-f9c1739173e7",
   "metadata": {},
   "outputs": [
    {
     "name": "stderr",
     "output_type": "stream",
     "text": [
      "INFO: 10 barcode files found\n"
     ]
    },
    {
     "data": {
      "text/html": [
       "<div>\n",
       "<style scoped>\n",
       "    .dataframe tbody tr th:only-of-type {\n",
       "        vertical-align: middle;\n",
       "    }\n",
       "\n",
       "    .dataframe tbody tr th {\n",
       "        vertical-align: top;\n",
       "    }\n",
       "\n",
       "    .dataframe thead th {\n",
       "        text-align: right;\n",
       "    }\n",
       "</style>\n",
       "<table border=\"1\" class=\"dataframe\">\n",
       "  <thead>\n",
       "    <tr style=\"text-align: right;\">\n",
       "      <th></th>\n",
       "      <th>LSK-B_T1</th>\n",
       "      <th>LSK-B_T2</th>\n",
       "      <th>LSK-ER_T1</th>\n",
       "      <th>LSK-ER_T2</th>\n",
       "      <th>LSK-MK_T1</th>\n",
       "      <th>LSK-MK_T2</th>\n",
       "      <th>LSK-MQ_T1</th>\n",
       "      <th>LSK-MQ_T2</th>\n",
       "      <th>LSK-MY_T1</th>\n",
       "      <th>LSK-MY_T2</th>\n",
       "    </tr>\n",
       "    <tr>\n",
       "      <th>barcodes</th>\n",
       "      <th></th>\n",
       "      <th></th>\n",
       "      <th></th>\n",
       "      <th></th>\n",
       "      <th></th>\n",
       "      <th></th>\n",
       "      <th></th>\n",
       "      <th></th>\n",
       "      <th></th>\n",
       "      <th></th>\n",
       "    </tr>\n",
       "  </thead>\n",
       "  <tbody>\n",
       "    <tr>\n",
       "      <th>AAAGCAGGATTCTAAACCAAATTAATG</th>\n",
       "      <td>0</td>\n",
       "      <td>1145</td>\n",
       "      <td>0</td>\n",
       "      <td>0</td>\n",
       "      <td>0</td>\n",
       "      <td>241</td>\n",
       "      <td>0</td>\n",
       "      <td>0</td>\n",
       "      <td>0</td>\n",
       "      <td>0</td>\n",
       "    </tr>\n",
       "    <tr>\n",
       "      <th>AAATTTGGCAGTGTCACGGTAGGTGTG</th>\n",
       "      <td>0</td>\n",
       "      <td>0</td>\n",
       "      <td>0</td>\n",
       "      <td>0</td>\n",
       "      <td>97</td>\n",
       "      <td>0</td>\n",
       "      <td>0</td>\n",
       "      <td>0</td>\n",
       "      <td>0</td>\n",
       "      <td>0</td>\n",
       "    </tr>\n",
       "    <tr>\n",
       "      <th>AACAGGATCGTAGTGGGTAAGTGAAAC</th>\n",
       "      <td>0</td>\n",
       "      <td>0</td>\n",
       "      <td>0</td>\n",
       "      <td>0</td>\n",
       "      <td>0</td>\n",
       "      <td>0</td>\n",
       "      <td>0</td>\n",
       "      <td>135</td>\n",
       "      <td>0</td>\n",
       "      <td>0</td>\n",
       "    </tr>\n",
       "    <tr>\n",
       "      <th>AACCGGACTGACGGGAATGCGGTCTTT</th>\n",
       "      <td>0</td>\n",
       "      <td>0</td>\n",
       "      <td>0</td>\n",
       "      <td>0</td>\n",
       "      <td>0</td>\n",
       "      <td>24</td>\n",
       "      <td>0</td>\n",
       "      <td>0</td>\n",
       "      <td>0</td>\n",
       "      <td>0</td>\n",
       "    </tr>\n",
       "    <tr>\n",
       "      <th>AACTCTATCTTTTACGCTTAATCAGTT</th>\n",
       "      <td>0</td>\n",
       "      <td>0</td>\n",
       "      <td>232</td>\n",
       "      <td>286</td>\n",
       "      <td>103</td>\n",
       "      <td>85</td>\n",
       "      <td>0</td>\n",
       "      <td>0</td>\n",
       "      <td>48</td>\n",
       "      <td>59</td>\n",
       "    </tr>\n",
       "    <tr>\n",
       "      <th>...</th>\n",
       "      <td>...</td>\n",
       "      <td>...</td>\n",
       "      <td>...</td>\n",
       "      <td>...</td>\n",
       "      <td>...</td>\n",
       "      <td>...</td>\n",
       "      <td>...</td>\n",
       "      <td>...</td>\n",
       "      <td>...</td>\n",
       "      <td>...</td>\n",
       "    </tr>\n",
       "    <tr>\n",
       "      <th>TTTTCATACCCTGTACCGACGTTCTCG</th>\n",
       "      <td>0</td>\n",
       "      <td>0</td>\n",
       "      <td>0</td>\n",
       "      <td>0</td>\n",
       "      <td>179</td>\n",
       "      <td>91</td>\n",
       "      <td>0</td>\n",
       "      <td>0</td>\n",
       "      <td>41</td>\n",
       "      <td>39</td>\n",
       "    </tr>\n",
       "    <tr>\n",
       "      <th>TTTTCGATTCGTCCTTAGGGGGGACGG</th>\n",
       "      <td>0</td>\n",
       "      <td>0</td>\n",
       "      <td>0</td>\n",
       "      <td>0</td>\n",
       "      <td>0</td>\n",
       "      <td>0</td>\n",
       "      <td>25</td>\n",
       "      <td>0</td>\n",
       "      <td>0</td>\n",
       "      <td>0</td>\n",
       "    </tr>\n",
       "    <tr>\n",
       "      <th>TTTTGCGCAATTTAAATGTATTCCGTA</th>\n",
       "      <td>0</td>\n",
       "      <td>0</td>\n",
       "      <td>49</td>\n",
       "      <td>0</td>\n",
       "      <td>0</td>\n",
       "      <td>0</td>\n",
       "      <td>0</td>\n",
       "      <td>0</td>\n",
       "      <td>0</td>\n",
       "      <td>0</td>\n",
       "    </tr>\n",
       "    <tr>\n",
       "      <th>TTTTGTACTCCGCGGACTTGGGCGAGT</th>\n",
       "      <td>0</td>\n",
       "      <td>0</td>\n",
       "      <td>0</td>\n",
       "      <td>0</td>\n",
       "      <td>85</td>\n",
       "      <td>0</td>\n",
       "      <td>0</td>\n",
       "      <td>0</td>\n",
       "      <td>0</td>\n",
       "      <td>0</td>\n",
       "    </tr>\n",
       "    <tr>\n",
       "      <th>TTTTTCCCTGGATGTTCAGTTACTCTG</th>\n",
       "      <td>0</td>\n",
       "      <td>0</td>\n",
       "      <td>0</td>\n",
       "      <td>27</td>\n",
       "      <td>0</td>\n",
       "      <td>0</td>\n",
       "      <td>0</td>\n",
       "      <td>0</td>\n",
       "      <td>0</td>\n",
       "      <td>0</td>\n",
       "    </tr>\n",
       "  </tbody>\n",
       "</table>\n",
       "<p>332 rows × 10 columns</p>\n",
       "</div>"
      ],
      "text/plain": [
       "                             LSK-B_T1  LSK-B_T2  LSK-ER_T1  LSK-ER_T2  \\\n",
       "barcodes                                                                \n",
       "AAAGCAGGATTCTAAACCAAATTAATG         0      1145          0          0   \n",
       "AAATTTGGCAGTGTCACGGTAGGTGTG         0         0          0          0   \n",
       "AACAGGATCGTAGTGGGTAAGTGAAAC         0         0          0          0   \n",
       "AACCGGACTGACGGGAATGCGGTCTTT         0         0          0          0   \n",
       "AACTCTATCTTTTACGCTTAATCAGTT         0         0        232        286   \n",
       "...                               ...       ...        ...        ...   \n",
       "TTTTCATACCCTGTACCGACGTTCTCG         0         0          0          0   \n",
       "TTTTCGATTCGTCCTTAGGGGGGACGG         0         0          0          0   \n",
       "TTTTGCGCAATTTAAATGTATTCCGTA         0         0         49          0   \n",
       "TTTTGTACTCCGCGGACTTGGGCGAGT         0         0          0          0   \n",
       "TTTTTCCCTGGATGTTCAGTTACTCTG         0         0          0         27   \n",
       "\n",
       "                             LSK-MK_T1  LSK-MK_T2  LSK-MQ_T1  LSK-MQ_T2  \\\n",
       "barcodes                                                                  \n",
       "AAAGCAGGATTCTAAACCAAATTAATG          0        241          0          0   \n",
       "AAATTTGGCAGTGTCACGGTAGGTGTG         97          0          0          0   \n",
       "AACAGGATCGTAGTGGGTAAGTGAAAC          0          0          0        135   \n",
       "AACCGGACTGACGGGAATGCGGTCTTT          0         24          0          0   \n",
       "AACTCTATCTTTTACGCTTAATCAGTT        103         85          0          0   \n",
       "...                                ...        ...        ...        ...   \n",
       "TTTTCATACCCTGTACCGACGTTCTCG        179         91          0          0   \n",
       "TTTTCGATTCGTCCTTAGGGGGGACGG          0          0         25          0   \n",
       "TTTTGCGCAATTTAAATGTATTCCGTA          0          0          0          0   \n",
       "TTTTGTACTCCGCGGACTTGGGCGAGT         85          0          0          0   \n",
       "TTTTTCCCTGGATGTTCAGTTACTCTG          0          0          0          0   \n",
       "\n",
       "                             LSK-MY_T1  LSK-MY_T2  \n",
       "barcodes                                           \n",
       "AAAGCAGGATTCTAAACCAAATTAATG          0          0  \n",
       "AAATTTGGCAGTGTCACGGTAGGTGTG          0          0  \n",
       "AACAGGATCGTAGTGGGTAAGTGAAAC          0          0  \n",
       "AACCGGACTGACGGGAATGCGGTCTTT          0          0  \n",
       "AACTCTATCTTTTACGCTTAATCAGTT         48         59  \n",
       "...                                ...        ...  \n",
       "TTTTCATACCCTGTACCGACGTTCTCG         41         39  \n",
       "TTTTCGATTCGTCCTTAGGGGGGACGG          0          0  \n",
       "TTTTGCGCAATTTAAATGTATTCCGTA          0          0  \n",
       "TTTTGTACTCCGCGGACTTGGGCGAGT          0          0  \n",
       "TTTTTCCCTGGATGTTCAGTTACTCTG          0          0  \n",
       "\n",
       "[332 rows x 10 columns]"
      ]
     },
     "execution_count": 3,
     "metadata": {},
     "output_type": "execute_result"
    }
   ],
   "source": [
    "analyzer = bartide.BarcodeAnalyzer('test_data')\n",
    "analyzer.barcodes"
   ]
  },
  {
   "cell_type": "code",
   "execution_count": 4,
   "id": "65030b4d-ab43-43d5-b417-c4acfe62a100",
   "metadata": {},
   "outputs": [],
   "source": [
    "analyzer.merge_groups(['B', 'B', 'ER', 'ER', 'MK', 'MK', 'MQ', 'MQ', 'MY', 'MY'])"
   ]
  },
  {
   "cell_type": "code",
   "execution_count": 5,
   "id": "f9862f91-4b90-4834-aa4e-652868ffdf1f",
   "metadata": {},
   "outputs": [
    {
     "data": {
      "text/plain": [
       "group\n",
       "B      8\n",
       "ER    54\n",
       "MK    68\n",
       "MQ    31\n",
       "MY    82\n",
       "dtype: int64"
      ]
     },
     "execution_count": 5,
     "metadata": {},
     "output_type": "execute_result"
    }
   ],
   "source": [
    "analyzer.total_barcodes()"
   ]
  },
  {
   "cell_type": "code",
   "execution_count": 6,
   "id": "dc2bb719-eb4b-4b5f-be6b-a60b218adcde",
   "metadata": {},
   "outputs": [
    {
     "data": {
      "text/plain": [
       "0"
      ]
     },
     "execution_count": 6,
     "metadata": {},
     "output_type": "execute_result"
    }
   ],
   "source": [
    "analyzer.all_overlaps()"
   ]
  },
  {
   "cell_type": "code",
   "execution_count": 7,
   "id": "0d474588-c196-402b-9d05-cbd6890d4ab3",
   "metadata": {},
   "outputs": [
    {
     "data": {
      "text/html": [
       "<div>\n",
       "<style scoped>\n",
       "    .dataframe tbody tr th:only-of-type {\n",
       "        vertical-align: middle;\n",
       "    }\n",
       "\n",
       "    .dataframe tbody tr th {\n",
       "        vertical-align: top;\n",
       "    }\n",
       "\n",
       "    .dataframe thead th {\n",
       "        text-align: right;\n",
       "    }\n",
       "</style>\n",
       "<table border=\"1\" class=\"dataframe\">\n",
       "  <thead>\n",
       "    <tr style=\"text-align: right;\">\n",
       "      <th></th>\n",
       "      <th>B</th>\n",
       "      <th>ER</th>\n",
       "      <th>MK</th>\n",
       "      <th>MQ</th>\n",
       "      <th>MY</th>\n",
       "    </tr>\n",
       "  </thead>\n",
       "  <tbody>\n",
       "    <tr>\n",
       "      <th>B</th>\n",
       "      <td>4</td>\n",
       "      <td>0</td>\n",
       "      <td>4</td>\n",
       "      <td>3</td>\n",
       "      <td>1</td>\n",
       "    </tr>\n",
       "    <tr>\n",
       "      <th>ER</th>\n",
       "      <td>0</td>\n",
       "      <td>27</td>\n",
       "      <td>21</td>\n",
       "      <td>9</td>\n",
       "      <td>29</td>\n",
       "    </tr>\n",
       "    <tr>\n",
       "      <th>MK</th>\n",
       "      <td>4</td>\n",
       "      <td>21</td>\n",
       "      <td>37</td>\n",
       "      <td>15</td>\n",
       "      <td>31</td>\n",
       "    </tr>\n",
       "    <tr>\n",
       "      <th>MQ</th>\n",
       "      <td>3</td>\n",
       "      <td>9</td>\n",
       "      <td>15</td>\n",
       "      <td>13</td>\n",
       "      <td>21</td>\n",
       "    </tr>\n",
       "    <tr>\n",
       "      <th>MY</th>\n",
       "      <td>1</td>\n",
       "      <td>29</td>\n",
       "      <td>31</td>\n",
       "      <td>21</td>\n",
       "      <td>42</td>\n",
       "    </tr>\n",
       "  </tbody>\n",
       "</table>\n",
       "</div>"
      ],
      "text/plain": [
       "    B  ER  MK  MQ  MY\n",
       "B   4   0   4   3   1\n",
       "ER  0  27  21   9  29\n",
       "MK  4  21  37  15  31\n",
       "MQ  3   9  15  13  21\n",
       "MY  1  29  31  21  42"
      ]
     },
     "execution_count": 7,
     "metadata": {},
     "output_type": "execute_result"
    }
   ],
   "source": [
    "analyzer.calc_pairwise_overlap()"
   ]
  },
  {
   "cell_type": "code",
   "execution_count": 8,
   "id": "aa1a7757-94f2-4161-a158-215ca21d56d0",
   "metadata": {},
   "outputs": [
    {
     "data": {
      "text/plain": [
       "B      ER     MK     MQ     MY   \n",
       "False  False  False  False  False    185\n",
       "                            True      29\n",
       "                     True   False      6\n",
       "                            True       7\n",
       "              True   False  False     25\n",
       "                            True      12\n",
       "                     True   False      2\n",
       "                            True       4\n",
       "       True   False  False  False     18\n",
       "                            True      13\n",
       "                     True   True       2\n",
       "              True   False  False      7\n",
       "                            True       7\n",
       "                     True   True       7\n",
       "True   False  False  False  False      3\n",
       "                     True   False      1\n",
       "              True   False  False      2\n",
       "                     True   False      1\n",
       "                            True       1\n",
       "dtype: int64"
      ]
     },
     "execution_count": 8,
     "metadata": {},
     "output_type": "execute_result"
    }
   ],
   "source": [
    "analyzer.calc_multi_overlap()"
   ]
  },
  {
   "cell_type": "code",
   "execution_count": 9,
   "id": "4436db44-155b-47a6-aa8c-cd7fc38e6705",
   "metadata": {},
   "outputs": [
    {
     "data": {
      "image/png": "[encoded data removed]",
      "text/plain": [
       "<Figure size 736x352 with 4 Axes>"
      ]
     },
     "metadata": {
      "needs_background": "light"
     },
     "output_type": "display_data"
    }
   ],
   "source": [
    "analyzer.plot_upset(save_name='./images/upset_plot.png')"
   ]
  },
  {
   "cell_type": "code",
   "execution_count": 10,
   "id": "c99eafe6-1717-4632-bc4d-8e62a9574820",
   "metadata": {},
   "outputs": [
    {
     "data": {
      "text/html": [
       "<div>\n",
       "<style scoped>\n",
       "    .dataframe tbody tr th:only-of-type {\n",
       "        vertical-align: middle;\n",
       "    }\n",
       "\n",
       "    .dataframe tbody tr th {\n",
       "        vertical-align: top;\n",
       "    }\n",
       "\n",
       "    .dataframe thead th {\n",
       "        text-align: right;\n",
       "    }\n",
       "</style>\n",
       "<table border=\"1\" class=\"dataframe\">\n",
       "  <thead>\n",
       "    <tr style=\"text-align: right;\">\n",
       "      <th></th>\n",
       "      <th>B</th>\n",
       "      <th>ER</th>\n",
       "      <th>MK</th>\n",
       "      <th>MQ</th>\n",
       "      <th>MY</th>\n",
       "    </tr>\n",
       "  </thead>\n",
       "  <tbody>\n",
       "    <tr>\n",
       "      <th>B</th>\n",
       "      <td>33.33</td>\n",
       "      <td>0.00</td>\n",
       "      <td>3.70</td>\n",
       "      <td>4.92</td>\n",
       "      <td>0.81</td>\n",
       "    </tr>\n",
       "    <tr>\n",
       "      <th>ER</th>\n",
       "      <td>0.00</td>\n",
       "      <td>31.40</td>\n",
       "      <td>19.44</td>\n",
       "      <td>14.75</td>\n",
       "      <td>23.39</td>\n",
       "    </tr>\n",
       "    <tr>\n",
       "      <th>MK</th>\n",
       "      <td>33.33</td>\n",
       "      <td>24.42</td>\n",
       "      <td>34.26</td>\n",
       "      <td>24.59</td>\n",
       "      <td>25.00</td>\n",
       "    </tr>\n",
       "    <tr>\n",
       "      <th>MQ</th>\n",
       "      <td>25.00</td>\n",
       "      <td>10.47</td>\n",
       "      <td>13.89</td>\n",
       "      <td>21.31</td>\n",
       "      <td>16.94</td>\n",
       "    </tr>\n",
       "    <tr>\n",
       "      <th>MY</th>\n",
       "      <td>8.33</td>\n",
       "      <td>33.72</td>\n",
       "      <td>28.70</td>\n",
       "      <td>34.43</td>\n",
       "      <td>33.87</td>\n",
       "    </tr>\n",
       "  </tbody>\n",
       "</table>\n",
       "</div>"
      ],
      "text/plain": [
       "        B     ER     MK     MQ     MY\n",
       "B   33.33   0.00   3.70   4.92   0.81\n",
       "ER   0.00  31.40  19.44  14.75  23.39\n",
       "MK  33.33  24.42  34.26  24.59  25.00\n",
       "MQ  25.00  10.47  13.89  21.31  16.94\n",
       "MY   8.33  33.72  28.70  34.43  33.87"
      ]
     },
     "execution_count": 10,
     "metadata": {},
     "output_type": "execute_result"
    }
   ],
   "source": [
    "analyzer.calc_percentage_overlap().round(2)"
   ]
  },
  {
   "cell_type": "code",
   "execution_count": 11,
   "id": "70a13cea-4869-4a66-958e-1d07cb07c8d9",
   "metadata": {},
   "outputs": [
    {
     "data": {
      "image/png": "[encoded data removed]",
      "text/plain": [
       "<Figure size 288x216 with 1 Axes>"
      ]
     },
     "metadata": {
      "needs_background": "light"
     },
     "output_type": "display_data"
    }
   ],
   "source": [
    "analyzer.plot_stacked(fig_size=(4,3), save_name='./images/stacked_plot.png')"
   ]
  },
  {
   "cell_type": "code",
   "execution_count": 12,
   "id": "b0f33a1e-9114-4735-a820-dddeb41f140b",
   "metadata": {},
   "outputs": [
    {
     "data": {
      "text/html": [
       "<div>\n",
       "<style scoped>\n",
       "    .dataframe tbody tr th:only-of-type {\n",
       "        vertical-align: middle;\n",
       "    }\n",
       "\n",
       "    .dataframe tbody tr th {\n",
       "        vertical-align: top;\n",
       "    }\n",
       "\n",
       "    .dataframe thead th {\n",
       "        text-align: right;\n",
       "    }\n",
       "</style>\n",
       "<table border=\"1\" class=\"dataframe\">\n",
       "  <thead>\n",
       "    <tr style=\"text-align: right;\">\n",
       "      <th></th>\n",
       "      <th>B</th>\n",
       "      <th>ER</th>\n",
       "      <th>MK</th>\n",
       "      <th>MQ</th>\n",
       "      <th>MY</th>\n",
       "    </tr>\n",
       "  </thead>\n",
       "  <tbody>\n",
       "    <tr>\n",
       "      <th>B</th>\n",
       "      <td>1.000000</td>\n",
       "      <td>0.000000</td>\n",
       "      <td>0.055556</td>\n",
       "      <td>0.083333</td>\n",
       "      <td>0.011236</td>\n",
       "    </tr>\n",
       "    <tr>\n",
       "      <th>ER</th>\n",
       "      <td>0.000000</td>\n",
       "      <td>1.000000</td>\n",
       "      <td>0.207921</td>\n",
       "      <td>0.118421</td>\n",
       "      <td>0.271028</td>\n",
       "    </tr>\n",
       "    <tr>\n",
       "      <th>MK</th>\n",
       "      <td>0.055556</td>\n",
       "      <td>0.207921</td>\n",
       "      <td>1.000000</td>\n",
       "      <td>0.178571</td>\n",
       "      <td>0.260504</td>\n",
       "    </tr>\n",
       "    <tr>\n",
       "      <th>MQ</th>\n",
       "      <td>0.083333</td>\n",
       "      <td>0.118421</td>\n",
       "      <td>0.178571</td>\n",
       "      <td>1.000000</td>\n",
       "      <td>0.228261</td>\n",
       "    </tr>\n",
       "    <tr>\n",
       "      <th>MY</th>\n",
       "      <td>0.011236</td>\n",
       "      <td>0.271028</td>\n",
       "      <td>0.260504</td>\n",
       "      <td>0.228261</td>\n",
       "      <td>1.000000</td>\n",
       "    </tr>\n",
       "  </tbody>\n",
       "</table>\n",
       "</div>"
      ],
      "text/plain": [
       "           B        ER        MK        MQ        MY\n",
       "B   1.000000  0.000000  0.055556  0.083333  0.011236\n",
       "ER  0.000000  1.000000  0.207921  0.118421  0.271028\n",
       "MK  0.055556  0.207921  1.000000  0.178571  0.260504\n",
       "MQ  0.083333  0.118421  0.178571  1.000000  0.228261\n",
       "MY  0.011236  0.271028  0.260504  0.228261  1.000000"
      ]
     },
     "execution_count": 12,
     "metadata": {},
     "output_type": "execute_result"
    }
   ],
   "source": [
    "analyzer.calc_pairwise_overlap(corrected=True)"
   ]
  },
  {
   "cell_type": "code",
   "execution_count": 13,
   "id": "2cc61087-4568-4606-9bc2-18610cd02ec0",
   "metadata": {},
   "outputs": [
    {
     "data": {
      "image/png": "[encoded data removed]",
      "text/plain": [
       "<Figure size 288x288 with 4 Axes>"
      ]
     },
     "metadata": {
      "needs_background": "light"
     },
     "output_type": "display_data"
    }
   ],
   "source": [
    "analyzer.plot_overlap_heatmap(fig_size=(4,4), save_name='./images/overlap_heatmap.png')"
   ]
  },
  {
   "cell_type": "code",
   "execution_count": 14,
   "id": "bcc98bee-4a3f-4696-bf76-dfc2fa17db2c",
   "metadata": {},
   "outputs": [
    {
     "data": {
      "text/html": [
       "<div>\n",
       "<style scoped>\n",
       "    .dataframe tbody tr th:only-of-type {\n",
       "        vertical-align: middle;\n",
       "    }\n",
       "\n",
       "    .dataframe tbody tr th {\n",
       "        vertical-align: top;\n",
       "    }\n",
       "\n",
       "    .dataframe thead th {\n",
       "        text-align: right;\n",
       "    }\n",
       "</style>\n",
       "<table border=\"1\" class=\"dataframe\">\n",
       "  <thead>\n",
       "    <tr style=\"text-align: right;\">\n",
       "      <th></th>\n",
       "      <th>B</th>\n",
       "      <th>ER</th>\n",
       "      <th>MK</th>\n",
       "      <th>MQ</th>\n",
       "      <th>MY</th>\n",
       "    </tr>\n",
       "  </thead>\n",
       "  <tbody>\n",
       "    <tr>\n",
       "      <th>B</th>\n",
       "      <td>1.000000</td>\n",
       "      <td>0.000000</td>\n",
       "      <td>0.240058</td>\n",
       "      <td>0.393086</td>\n",
       "      <td>0.130218</td>\n",
       "    </tr>\n",
       "    <tr>\n",
       "      <th>ER</th>\n",
       "      <td>0.000000</td>\n",
       "      <td>1.000000</td>\n",
       "      <td>0.843237</td>\n",
       "      <td>0.534626</td>\n",
       "      <td>0.594077</td>\n",
       "    </tr>\n",
       "    <tr>\n",
       "      <th>MK</th>\n",
       "      <td>0.240058</td>\n",
       "      <td>0.843237</td>\n",
       "      <td>1.000000</td>\n",
       "      <td>0.709495</td>\n",
       "      <td>0.691919</td>\n",
       "    </tr>\n",
       "    <tr>\n",
       "      <th>MQ</th>\n",
       "      <td>0.393086</td>\n",
       "      <td>0.534626</td>\n",
       "      <td>0.709495</td>\n",
       "      <td>1.000000</td>\n",
       "      <td>0.715117</td>\n",
       "    </tr>\n",
       "    <tr>\n",
       "      <th>MY</th>\n",
       "      <td>0.130218</td>\n",
       "      <td>0.594077</td>\n",
       "      <td>0.691919</td>\n",
       "      <td>0.715117</td>\n",
       "      <td>1.000000</td>\n",
       "    </tr>\n",
       "  </tbody>\n",
       "</table>\n",
       "</div>"
      ],
      "text/plain": [
       "           B        ER        MK        MQ        MY\n",
       "B   1.000000  0.000000  0.240058  0.393086  0.130218\n",
       "ER  0.000000  1.000000  0.843237  0.534626  0.594077\n",
       "MK  0.240058  0.843237  1.000000  0.709495  0.691919\n",
       "MQ  0.393086  0.534626  0.709495  1.000000  0.715117\n",
       "MY  0.130218  0.594077  0.691919  0.715117  1.000000"
      ]
     },
     "execution_count": 14,
     "metadata": {},
     "output_type": "execute_result"
    }
   ],
   "source": [
    "analyzer.calc_weighted_overlap()"
   ]
  },
  {
   "cell_type": "code",
   "execution_count": 15,
   "id": "3a7ccf95-e360-4a2d-9da1-8bffd051e3ec",
   "metadata": {},
   "outputs": [
    {
     "data": {
      "image/png": "[encoded data removed]",
      "text/plain": [
       "<Figure size 288x288 with 4 Axes>"
      ]
     },
     "metadata": {
      "needs_background": "light"
     },
     "output_type": "display_data"
    }
   ],
   "source": [
    "analyzer.plot_weighted_heatmap(fig_size=(4,4), save_name='./images/weighted_heatmap.png')"
   ]
  },
  {
   "cell_type": "code",
   "execution_count": null,
   "id": "62c4a638-9c40-45c6-8761-d355ad33a327",
   "metadata": {},
   "outputs": [],
   "source": []
  }
 ],
 "metadata": {
  "kernelspec": {
   "display_name": "Python 3 (ipykernel)",
   "language": "python",
   "name": "python3"
  },
  "language_info": {
   "codemirror_mode": {
    "name": "ipython",
    "version": 3
   },
   "file_extension": ".py",
   "mimetype": "text/x-python",
   "name": "python",
   "nbconvert_exporter": "python",
   "pygments_lexer": "ipython3",
   "version": "3.9.12"
  }
 },
 "nbformat": 4,
 "nbformat_minor": 5
}
