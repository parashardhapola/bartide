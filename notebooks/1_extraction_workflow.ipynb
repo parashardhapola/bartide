{
 "cells": [
  {
   "cell_type": "code",
   "execution_count": 1,
   "id": "36599a48-111b-4e2d-9829-043c36decae4",
   "metadata": {},
   "outputs": [
    {
     "data": {
      "text/plain": [
       "'0.0.2'"
      ]
     },
     "execution_count": 1,
     "metadata": {},
     "output_type": "execute_result"
    }
   ],
   "source": [
    "import bartide\n",
    "bartide.__version__"
   ]
  },
  {
   "cell_type": "code",
   "execution_count": 2,
   "id": "2e97ee43-9158-47a1-97c3-1dcf25b51470",
   "metadata": {},
   "outputs": [],
   "source": [
    "extractor = bartide.BarcodeExtractor(\n",
    "    'test_data/LSK-B_T1_R1.fastq.gz',\n",
    "    'test_data/LSK-B_T1_R2.fastq.gz'\n",
    ")"
   ]
  },
  {
   "cell_type": "code",
   "execution_count": 3,
   "id": "3cba0ed6-71c7-4999-bcad-f74e5f899074",
   "metadata": {},
   "outputs": [
    {
     "name": "stderr",
     "output_type": "stream",
     "text": [
      "Identifying flank sequences: 25000it [00:00, 64596.17it/s]\n"
     ]
    }
   ],
   "source": [
    "extractor.identify_flanks()"
   ]
  },
  {
   "cell_type": "code",
   "execution_count": 4,
   "id": "085b89b3-5eda-4e8c-9b09-daee5f253f54",
   "metadata": {},
   "outputs": [
    {
     "name": "stdout",
     "output_type": "stream",
     "text": [
      " Barcode length: 27\n",
      " Left flank sequence: GTAGCC\n",
      " Right flank sequence: AGATCG\n"
     ]
    }
   ],
   "source": [
    "print (\n",
    "    f\" Barcode length: {extractor.barcodeLength}\\n\",\n",
    "    f\"Left flank sequence: {extractor.leftFlank}\\n\",\n",
    "    f\"Right flank sequence: {extractor.rightFlank}\",\n",
    ")"
   ]
  },
  {
   "cell_type": "code",
   "execution_count": 5,
   "id": "234a8615-7162-4e12-9be6-5b6af59262db",
   "metadata": {},
   "outputs": [
    {
     "data": {
      "image/png": "[encoded data removed]",
      "text/plain": [
       "<Figure size 864x216 with 1 Axes>"
      ]
     },
     "metadata": {
      "needs_background": "light"
     },
     "output_type": "display_data"
    }
   ],
   "source": [
    "extractor.plot_composition()"
   ]
  },
  {
   "cell_type": "code",
   "execution_count": 6,
   "id": "700de332-efc2-491b-8048-aa2d1a2b1b24",
   "metadata": {},
   "outputs": [
    {
     "name": "stderr",
     "output_type": "stream",
     "text": [
      "Counting barcodes: 25000it [00:00, 29939.25it/s]\n",
      "INFO: 25000 sequences processed. 1234 unique(uncorrected) barcodes found.\n",
      "WARNING: Unable to find barcodes in 12.84% reads. 6.15% reads had too many mismatches.\n",
      "INFO: Maximum observed read length is 75\n"
     ]
    }
   ],
   "source": [
    "extractor.count_barcodes()"
   ]
  },
  {
   "cell_type": "code",
   "execution_count": 7,
   "id": "e1a4a05e-a792-4ee8-bd86-399065e24f13",
   "metadata": {},
   "outputs": [
    {
     "data": {
      "text/plain": [
       "TTGTAGGGGTGTGTTCTACCGGTAATT    2843\n",
       "GTGCTGGTAATGTGGGCGACGGTGGGG     913\n",
       "TTGGTGAAGCATAGTTCCGTGATTGAA     909\n",
       "TTCCATGACGTTAAATACCTCCTTATA     723\n",
       "ATCTGGCGTCCAGCAGATATTAGTTTT     717\n",
       "                               ... \n",
       "AAGTTACATGCCGCAAAGGGTTCTTTG       1\n",
       "AAGGATGAATGACAAGGTGCTAGCCAT       1\n",
       "GGTACAAGGCGGGATTACCATGCATTG       1\n",
       "GTGCTGGAAATGTGGGCGACGGTGGGG       1\n",
       "AAGTCACATGCCGCAAAGTGTCCATTG       1\n",
       "Length: 1234, dtype: int64"
      ]
     },
     "execution_count": 7,
     "metadata": {},
     "output_type": "execute_result"
    }
   ],
   "source": [
    "extractor.rawCounts"
   ]
  },
  {
   "cell_type": "code",
   "execution_count": 8,
   "id": "f5a8d7ca-4704-499b-aa3d-5ba0cf0f8305",
   "metadata": {},
   "outputs": [
    {
     "data": {
      "image/png": "[encoded data removed]",
      "text/plain": [
       "<Figure size 432x360 with 1 Axes>"
      ]
     },
     "metadata": {
      "needs_background": "light"
     },
     "output_type": "display_data"
    }
   ],
   "source": [
    "extractor.plot_barcode_frequency()"
   ]
  },
  {
   "cell_type": "code",
   "execution_count": 9,
   "id": "639c0e61-f5e4-4936-bc90-5e743fdb9903",
   "metadata": {},
   "outputs": [
    {
     "name": "stderr",
     "output_type": "stream",
     "text": [
      "Querying ANN index: 100%|███████████████████████████████████| 1234/1234 [00:00<00:00, 19587.91it/s]\n",
      "Merging barcodes: 100%|███████████████████████████████████| 1234/1234 [00:00<00:00, 1231739.92it/s]\n",
      "Filtering corrected barcodes: 100%|████████████████████████████████████████| 70/70 [00:00<?, ?it/s]\n"
     ]
    }
   ],
   "source": [
    "corrector = bartide.SeqCorrect()\n",
    "corrector.run(extractor.rawCounts)"
   ]
  },
  {
   "cell_type": "code",
   "execution_count": 10,
   "id": "a2dfefb2-5220-455b-bc89-4dddf6a7a15d",
   "metadata": {},
   "outputs": [
    {
     "data": {
      "text/plain": [
       "TTGTAGGGGTGTGTTCTACCGGTAATT    3093\n",
       "GTGCTGGTAATGTGGGCGACGGTGGGG    1000\n",
       "TTGGTGAAGCATAGTTCCGTGATTGAA     982\n",
       "TTCCATGACGTTAAATACCTCCTTATA     773\n",
       "ATCTGGCGTCCAGCAGATATTAGTTTT     788\n",
       "GGGAATGAATTTGTCAAATATTATGTG     716\n",
       "ACTTAGCGACCTTCTTCCAGTATCCTG     683\n",
       "TCGATTTTTCGGACTGCACTGATATCG     632\n",
       "ATCGGGTGACCCCCGCTTAAGTCTGTT     559\n",
       "TGTGCAACGTGCGTGAGGTTTAGACGT     546\n",
       "GACGTGGTAGGTGAAAAGATCTGTGAG     557\n",
       "GGTACAAGGCGGGTTTACCATGCATTG     547\n",
       "AAGGATGAATGACAAGGAGCTAGCCAT     543\n",
       "GAGATCGTACAGGGCTGTGTAGCTAAG     529\n",
       "TTGGTCTATCGAATACGTGGTTGTATA     525\n",
       "GGATCTCCACCCGGTGCCGTATATCGT     525\n",
       "GTGGTCTAGAACGGGTGAATGGTCCTT     502\n",
       "GGCGGCCCATTATTCTGATTATGCTGG     505\n",
       "GGTTAAGATCGCACTCTTCCCGTGTAG     481\n",
       "CTCCCATTTCGATCGTATAGTCGACGC     464\n",
       "AAGTTACATGCCGCAAAGGGTCTATTG     478\n",
       "GTAGCGTGGGTCCTTCTTCCTGTAGGC     446\n",
       "TTAGCTCCCATCGTTGGTAGGTCAAGA     413\n",
       "TTTGAATCAGGAGCCGACGTTGTGCTT     401\n",
       "TCGCCTTTGCTCGTCTCGTGTCTGGTG     419\n",
       "CCATACGGGTCAGTCGTCCGCCTGGCG     301\n",
       "TTGTTCTGGGGTGTTTTTGATCACTTC     293\n",
       "TGGTCTCGTGTCAATCTCATCCGTCCA     286\n",
       "GGTAGTACTCAATTAGGACTCTATGTA     283\n",
       "TCGTACGTCGCGGGCCTTGAACTTCCT     284\n",
       "ACGGCGGAACCCGGTTTGACGACAGTT     286\n",
       "GAGTTCCACGTCTCCCGGGGGTCACGC     249\n",
       "CCCATTAATCCTTTGGCTGTCCTGCTA     218\n",
       "GTCTGGGGGATCGAACTGTGCGTACCG     142\n",
       "TTGCATGACTTGTATGGGGTTTGGGCG     138\n",
       "ACGGGGATTATACGCAAAAAGTCGTTC     133\n",
       "GCGTGTCTGTCTTTTGTGGTGGGGAAC     124\n",
       "ATGATTGGTGACCATCTTCGTCCTTTG     131\n",
       "GTGTCCGATGCGGTTCTACCGATCTAC     121\n",
       "ATTGCACGTGAACGTACGAGACAGCAT      62\n",
       "CTGCCCAACCTGTCGTTCCAGGGCGAA      29\n",
       "dtype: int64"
      ]
     },
     "execution_count": 10,
     "metadata": {},
     "output_type": "execute_result"
    }
   ],
   "source": [
    "corrector.correctedCounts"
   ]
  },
  {
   "cell_type": "code",
   "execution_count": 11,
   "id": "87a5fd8c-9c16-40ac-ab15-71e1b29fd681",
   "metadata": {},
   "outputs": [],
   "source": [
    "corrector.save_to_csv('test_data/barcodes_freq_sample1.csv')"
   ]
  },
  {
   "cell_type": "code",
   "execution_count": null,
   "id": "2e0d2076-765f-4591-9c99-4334c6e657b8",
   "metadata": {},
   "outputs": [],
   "source": []
  }
 ],
 "metadata": {
  "kernelspec": {
   "display_name": "Python 3 (ipykernel)",
   "language": "python",
   "name": "python3"
  },
  "language_info": {
   "codemirror_mode": {
    "name": "ipython",
    "version": 3
   },
   "file_extension": ".py",
   "mimetype": "text/x-python",
   "name": "python",
   "nbconvert_exporter": "python",
   "pygments_lexer": "ipython3",
   "version": "3.9.12"
  }
 },
 "nbformat": 4,
 "nbformat_minor": 5
}
